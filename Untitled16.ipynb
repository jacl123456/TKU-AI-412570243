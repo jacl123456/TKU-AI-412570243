{
  "nbformat": 4,
  "nbformat_minor": 0,
  "metadata": {
    "colab": {
      "provenance": [],
      "authorship_tag": "ABX9TyOFn9Wfc1/r/9tt6ZlSYkhl",
      "include_colab_link": true
    },
    "kernelspec": {
      "name": "python3",
      "display_name": "Python 3"
    },
    "language_info": {
      "name": "python"
    }
  },
  "cells": [
    {
      "cell_type": "markdown",
      "metadata": {
        "id": "view-in-github",
        "colab_type": "text"
      },
      "source": [
        "<a href=\"https://colab.research.google.com/github/jacl123456/TKU-AI-412570243/blob/main/Untitled16.ipynb\" target=\"_parent\"><img src=\"https://colab.research.google.com/assets/colab-badge.svg\" alt=\"Open In Colab\"/></a>"
      ]
    },
    {
      "cell_type": "code",
      "source": [
        "temperature  = int(input(\"請輸入你的體溫\"))\n",
        "if temperature >= 37.5:\n",
        "    print(\"體溫高\")\n",
        "elif 37 <= temperature <= 37.4:\n",
        "    print(\"體溫略高\")\n",
        "elif 34 <= temperature <= 36.9:\n",
        "    print(\"體溫正常\")\n",
        "else:\n",
        "    print(\"體溫異常\")"
      ],
      "metadata": {
        "id": "_RFOZ--5Je-B",
        "colab": {
          "base_uri": "https://localhost:8080/"
        },
        "outputId": "4e4ed153-ed0f-4673-ff22-1a9a4ec2f14f"
      },
      "execution_count": 1,
      "outputs": [
        {
          "output_type": "stream",
          "name": "stdout",
          "text": [
            "請輸入你的體溫37\n",
            "體溫略高\n"
          ]
        }
      ]
    },
    {
      "cell_type": "code",
      "source": [
        "score = input(\"請輸入成績\")\n",
        "sc=int(score)\n",
        "if(sc>=90):\n",
        "  print(\"A\")\n",
        "elif(80<=sc<=89):\n",
        "  print(\"B\")\n",
        "elif(70<=sc<=79):\n",
        "  print(\"c\")\n",
        "elif(60<=sc<=69):\n",
        "  print(\"D\")\n",
        "else:\n",
        "  print(\"E\")"
      ],
      "metadata": {
        "colab": {
          "base_uri": "https://localhost:8080/"
        },
        "id": "G441Q1P8kyja",
        "outputId": "8c655443-f02b-4f66-e295-e7de9161d7f4"
      },
      "execution_count": 2,
      "outputs": [
        {
          "output_type": "stream",
          "name": "stdout",
          "text": [
            "請輸入成績88\n",
            "B\n"
          ]
        }
      ]
    },
    {
      "cell_type": "code",
      "source": [
        "month = int(input(\"請輸入月份\"))\n",
        "if month in [3, 4, 5]:\n",
        "  print(\"春天\")\n",
        "elif month in [6, 7, 8]:\n",
        "  print(\"夏天\")\n",
        "elif month in [9, 10, 11]:\n",
        "  print(\"秋天\")\n",
        "elif month in [12, 1, 2]:\n",
        "  print(\"冬天\")\n",
        "else:\n",
        "  print(\"月份不在範圍內\")"
      ],
      "metadata": {
        "colab": {
          "base_uri": "https://localhost:8080/"
        },
        "id": "_pMIZEJck5gG",
        "outputId": "61f7ab0c-00ec-4e4b-91d9-3351e5c83f16"
      },
      "execution_count": 3,
      "outputs": [
        {
          "output_type": "stream",
          "name": "stdout",
          "text": [
            "請輸入月份4\n",
            "春天\n"
          ]
        }
      ]
    },
    {
      "cell_type": "code",
      "source": [],
      "metadata": {
        "id": "pAKW0vHYk_Ns"
      },
      "execution_count": null,
      "outputs": []
    }
  ]
}