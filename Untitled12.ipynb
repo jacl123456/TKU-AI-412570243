{
  "nbformat": 4,
  "nbformat_minor": 0,
  "metadata": {
    "colab": {
      "provenance": [],
      "authorship_tag": "ABX9TyOwuIDmKWa+VHkJGTeaO8JS",
      "include_colab_link": true
    },
    "kernelspec": {
      "name": "python3",
      "display_name": "Python 3"
    },
    "language_info": {
      "name": "python"
    }
  },
  "cells": [
    {
      "cell_type": "markdown",
      "metadata": {
        "id": "view-in-github",
        "colab_type": "text"
      },
      "source": [
        "<a href=\"https://colab.research.google.com/github/jacl123456/TKU-AI-412570243/blob/main/Untitled12.ipynb\" target=\"_parent\"><img src=\"https://colab.research.google.com/assets/colab-badge.svg\" alt=\"Open In Colab\"/></a>"
      ]
    },
    {
      "cell_type": "code",
      "source": [
        "a=int(input('請輸入國文成績:'))\n",
        "b=int(input('請輸入數學成績:'))\n",
        "c=int(input('請輸入英文成績:'))"
      ],
      "metadata": {
        "colab": {
          "base_uri": "https://localhost:8080/"
        },
        "id": "yfcv7a7BmAYf",
        "outputId": "4c8e8ec6-9d2f-4fd4-a755-e7894184bf87"
      },
      "execution_count": 2,
      "outputs": [
        {
          "name": "stdout",
          "output_type": "stream",
          "text": [
            "請輸入國文成績:87\n",
            "請輸入數學成績:46\n",
            "請輸入英文成績:99\n"
          ]
        }
      ]
    },
    {
      "cell_type": "code",
      "source": [
        "\n",
        "print('您的總分為:')\n",
        "print(a+b+c)"
      ],
      "metadata": {
        "colab": {
          "base_uri": "https://localhost:8080/"
        },
        "id": "V9ES9RdSmMSN",
        "outputId": "ab908eab-03b6-4d2e-8283-05df9bcfb451"
      },
      "execution_count": 3,
      "outputs": [
        {
          "output_type": "stream",
          "name": "stdout",
          "text": [
            "您的總分為:\n",
            "232\n"
          ]
        }
      ]
    },
    {
      "cell_type": "code",
      "source": [
        "上底=int(input('請輸入梯形上底:'))\n",
        "下底=int(input('請輸入梯形下底:'))\n",
        "高=int(input('請輸入梯形高:'))\n"
      ],
      "metadata": {
        "colab": {
          "base_uri": "https://localhost:8080/"
        },
        "id": "rl-5cFU-mSGV",
        "outputId": "a2b302ea-dc04-40c8-c793-2212327a1581"
      },
      "execution_count": 4,
      "outputs": [
        {
          "name": "stdout",
          "output_type": "stream",
          "text": [
            "請輸入梯形上底:8\n",
            "請輸入梯形下底:7\n",
            "請輸入梯形高:10\n"
          ]
        }
      ]
    },
    {
      "cell_type": "code",
      "source": [
        "\n",
        "面積=(上底+下底)*高/2\n",
        "print(面積)"
      ],
      "metadata": {
        "colab": {
          "base_uri": "https://localhost:8080/"
        },
        "id": "iYjCumB9mdtE",
        "outputId": "fc2f3ed0-d4f3-406e-dbe5-10ac21014688"
      },
      "execution_count": 5,
      "outputs": [
        {
          "output_type": "stream",
          "name": "stdout",
          "text": [
            "75.0\n"
          ]
        }
      ]
    }
  ]
}