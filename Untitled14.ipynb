{
  "nbformat": 4,
  "nbformat_minor": 0,
  "metadata": {
    "colab": {
      "provenance": [],
      "authorship_tag": "ABX9TyMYa9WIoPEHqbOIewCnxymC",
      "include_colab_link": true
    },
    "kernelspec": {
      "name": "python3",
      "display_name": "Python 3"
    },
    "language_info": {
      "name": "python"
    }
  },
  "cells": [
    {
      "cell_type": "markdown",
      "metadata": {
        "id": "view-in-github",
        "colab_type": "text"
      },
      "source": [
        "<a href=\"https://colab.research.google.com/github/jacl123456/TKU-AI-412570243/blob/main/Untitled14.ipynb\" target=\"_parent\"><img src=\"https://colab.research.google.com/assets/colab-badge.svg\" alt=\"Open In Colab\"/></a>"
      ]
    },
    {
      "cell_type": "code",
      "source": [
        "temperature= int(input(\"請輸入你的體溫\"))\n",
        " if temperature >= 37.5:\n",
        "    print(\"體溫高\")\n",
        "elif 37 <= temperature <= 37.4:\n",
        "    print(\"體溫略高\")\n",
        "elif 34 <= temperature <= 36.9:\n",
        "    print(\"體溫正常\")\n",
        "else:\n",
        "    print(\"體溫異常\")"
      ],
      "metadata": {
        "colab": {
          "base_uri": "https://localhost:8080/",
          "height": 109
        },
        "id": "OTncxFHqPpVc",
        "outputId": "62030347-2e90-42dc-8523-44e1a7c035eb"
      },
      "execution_count": 16,
      "outputs": [
        {
          "output_type": "error",
          "ename": "IndentationError",
          "evalue": "unexpected indent (<ipython-input-16-944813d3d8be>, line 2)",
          "traceback": [
            "\u001b[0;36m  File \u001b[0;32m\"<ipython-input-16-944813d3d8be>\"\u001b[0;36m, line \u001b[0;32m2\u001b[0m\n\u001b[0;31m    if temperature >= 37.5:\u001b[0m\n\u001b[0m    ^\u001b[0m\n\u001b[0;31mIndentationError\u001b[0m\u001b[0;31m:\u001b[0m unexpected indent\n"
          ]
        }
      ]
    },
    {
      "cell_type": "code",
      "source": [
        "score = input(“請輸入成績”)\n",
        "sc=int(score)\n",
        "if(sc>=90):\n",
        "  print(“A”)\n",
        "elif(80<=sc<=89):\n",
        "  print(“B”)\n",
        "elif(70<=sc<=79):\n",
        "  print(“c”)\n",
        "elif(60<=sc<=69):\n",
        "  print(“D”)\n",
        "else:\n",
        "  print(“E”)"
      ],
      "metadata": {
        "colab": {
          "base_uri": "https://localhost:8080/",
          "height": 109
        },
        "id": "SFH2JtrOPtYj",
        "outputId": "dbf295af-e353-4d9b-c644-0de2985b7a7d"
      },
      "execution_count": 3,
      "outputs": [
        {
          "output_type": "error",
          "ename": "SyntaxError",
          "evalue": "invalid character '“' (U+201C) (<ipython-input-3-d96396413f2f>, line 1)",
          "traceback": [
            "\u001b[0;36m  File \u001b[0;32m\"<ipython-input-3-d96396413f2f>\"\u001b[0;36m, line \u001b[0;32m1\u001b[0m\n\u001b[0;31m    score = input(“請輸入成績”)\u001b[0m\n\u001b[0m                  ^\u001b[0m\n\u001b[0;31mSyntaxError\u001b[0m\u001b[0;31m:\u001b[0m invalid character '“' (U+201C)\n"
          ]
        }
      ]
    },
    {
      "cell_type": "code",
      "source": [
        "month=int(input(“請輸入月份”))\n",
        "if month in [3, 4, 5]:\n",
        "  print(“春天”)\n",
        "elif month in [6, 7, 8]:\n",
        "  print(“夏天”)\n",
        "elif month in [9, 10, 11]:\n",
        "  print(“秋天”)\n",
        "elif month in [12, 1, 2]:\n",
        "  print(“冬天”)\n",
        "else:\n",
        "  print(“月份不在範圍內”)"
      ],
      "metadata": {
        "colab": {
          "base_uri": "https://localhost:8080/",
          "height": 109
        },
        "id": "_I3f0yuoQAtx",
        "outputId": "39d97145-dd97-468f-c787-67f40349f9a2"
      },
      "execution_count": 12,
      "outputs": [
        {
          "output_type": "error",
          "ename": "SyntaxError",
          "evalue": "invalid character '“' (U+201C) (<ipython-input-12-0d58369f1638>, line 1)",
          "traceback": [
            "\u001b[0;36m  File \u001b[0;32m\"<ipython-input-12-0d58369f1638>\"\u001b[0;36m, line \u001b[0;32m1\u001b[0m\n\u001b[0;31m    month=int(input(“請輸入月份”))\u001b[0m\n\u001b[0m                    ^\u001b[0m\n\u001b[0;31mSyntaxError\u001b[0m\u001b[0;31m:\u001b[0m invalid character '“' (U+201C)\n"
          ]
        }
      ]
    }
  ]
}