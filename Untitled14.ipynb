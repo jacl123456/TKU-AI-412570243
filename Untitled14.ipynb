{
  "nbformat": 4,
  "nbformat_minor": 0,
  "metadata": {
    "colab": {
      "provenance": [],
      "authorship_tag": "ABX9TyPSre2jDISkgiJDSW5AUWv1",
      "include_colab_link": true
    },
    "kernelspec": {
      "name": "python3",
      "display_name": "Python 3"
    },
    "language_info": {
      "name": "python"
    }
  },
  "cells": [
    {
      "cell_type": "markdown",
      "metadata": {
        "id": "view-in-github",
        "colab_type": "text"
      },
      "source": [
        "<a href=\"https://colab.research.google.com/github/jacl123456/TKU-AI-412570243/blob/main/Untitled14.ipynb\" target=\"_parent\"><img src=\"https://colab.research.google.com/assets/colab-badge.svg\" alt=\"Open In Colab\"/></a>"
      ]
    },
    {
      "cell_type": "code",
      "execution_count": 1,
      "metadata": {
        "colab": {
          "base_uri": "https://localhost:8080/"
        },
        "id": "rZyaqclffRBW",
        "outputId": "3f2be8c7-8748-4298-9315-4190a81c083f"
      },
      "outputs": [
        {
          "output_type": "stream",
          "name": "stdout",
          "text": [
            "請輸入正整數8\n",
            "此數為偶數\n"
          ]
        }
      ],
      "source": [
        "score = int(input(\"請輸入正整數\"))\n",
        "a=(score % 2)\n",
        "if a == 0:\n",
        "  print(\"此數為偶數\")\n",
        "elif a == 1:\n",
        "  print(\"此數為奇數\")"
      ]
    }
  ]
}